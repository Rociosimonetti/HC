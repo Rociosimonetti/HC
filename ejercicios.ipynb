{
 "cells": [
  {
   "cell_type": "code",
   "execution_count": 5,
   "metadata": {},
   "outputs": [],
   "source": [
    "def listaDivisibles(numero,tope):\n",
    "    if numero < tope:\n",
    "        hacer = []\n",
    "        for n in range (numero, tope+1):\n",
    "            if n % numero == 0:\n",
    "                hacer.append(n)\n",
    "        return hacer\n",
    "    return []"
   ]
  },
  {
   "cell_type": "code",
   "execution_count": 6,
   "metadata": {},
   "outputs": [
    {
     "name": "stdout",
     "output_type": "stream",
     "text": [
      "[]\n"
     ]
    }
   ],
   "source": [
    "print(listaDivisibles(12,10))"
   ]
  },
  {
   "attachments": {},
   "cell_type": "markdown",
   "metadata": {},
   "source": [
    "Esta función devuelve un objeto instanciado de la clase Vehiculo, \n",
    "    la cual debe tener los siguientes atributos:\n",
    "        Tipo:       Un valor dentro de los valores posibles: ['auto','camioneta','moto']\n",
    "        Color:      Un valor de tipo de dato string.\n",
    "        Velocidad:  Un valor de tipo de dato float, que debe inicializarse en cero.\n",
    "    y debe tener el siguiente método:\n",
    "        Acelerar(): Este método recibe un parámetro con el valor que debe incrementar a la\n",
    "                    propiedad Velocidad y luego retornarla.\n",
    "                    Si la propiedad Velocidad cobra un valor menor a cero, debe quedar en cero.\n",
    "                    Si la propiedad Velocidad cobra un valor mayor a cien, debe quedar en cien.\n",
    "    Recibe dos argumento:\n",
    "        tipo: Dato que se asignará al atributo Tipo del objeto de la clase Vehiculo\n",
    "        color: Dato que se asignará al atributo Color del objeto de la clase Vehiculo\n",
    "    Ej:\n",
    "        a = ClaseVehículo('auto','gris')\n",
    "        a.Acelerar(10) -> debe devolver 10\n",
    "        a.Acelerar(15) -> debe devolver 25\n",
    "        a.Acelerar(-10) -> debe devolver 15\n",
    "    '''\n",
    "    #Tu código aca:\n",
    "   "
   ]
  },
  {
   "cell_type": "code",
   "execution_count": 284,
   "metadata": {},
   "outputs": [],
   "source": [
    "def claseVehiculo(tipo, color):\n",
    "    class claseVehiculo:\n",
    "        def __init__(self, tipo, color):\n",
    "            self.tipo = [\"auto\", \"camioneta\", \"moto\"]\n",
    "            self.color = color\n",
    "            self.velocidad = 0\n",
    "\n",
    "        def Acelerar(self, vel1):\n",
    "            self.velocidad += vel1\n",
    "            if self.velocidad < 0:\n",
    "                self.velocidad = 0\n",
    "            if self.velocidad > 100:\n",
    "                self.velocidad = 100\n",
    "\n",
    "            return self.velocidad\n",
    "        \n",
    "    return claseVehiculo(tipo, color)\n",
    "    "
   ]
  },
  {
   "cell_type": "code",
   "execution_count": 287,
   "metadata": {},
   "outputs": [
    {
     "data": {
      "text/plain": [
       "50"
      ]
     },
     "execution_count": 287,
     "metadata": {},
     "output_type": "execute_result"
    }
   ],
   "source": [
    "a1 = claseVehiculo(\"camion\",\"blanco\",)\n",
    "a1.Acelerar(50)"
   ]
  },
  {
   "cell_type": "code",
   "execution_count": 288,
   "metadata": {},
   "outputs": [
    {
     "data": {
      "text/plain": [
       "100"
      ]
     },
     "execution_count": 288,
     "metadata": {},
     "output_type": "execute_result"
    }
   ],
   "source": [
    "a1.Acelerar(100)"
   ]
  },
  {
   "cell_type": "code",
   "execution_count": 289,
   "metadata": {},
   "outputs": [
    {
     "data": {
      "text/plain": [
       "70"
      ]
     },
     "execution_count": 289,
     "metadata": {},
     "output_type": "execute_result"
    }
   ],
   "source": [
    "a1.Acelerar(-30)"
   ]
  },
  {
   "attachments": {},
   "cell_type": "markdown",
   "metadata": {},
   "source": [
    "Esta función recibe una lista, que puede contener elementos que a su vez sean listas y\n",
    "    devuelve esos elementos por separado en una lista única. \n",
    "    En caso de que el parámetro no sea de tipo lista, debe retornar nulo.\n",
    "    Recibe un argumento:\n",
    "        lista: La lista que puede contener otras listas y se convierte a una \n",
    "        lista de elementos únicos o no iterables.\n",
    "    Ej:\n",
    "        ListaDeListas([1,2,['a','b'],[10]]) debe retornar [1,2,'a','b',10]\n",
    "        ListaDeListas(108) debe retornar el valor nulo.\n",
    "        ListaDeListas([[1,2,[3]],[4]]) debe retornar [1,2,3,4]\n",
    "    '''"
   ]
  },
  {
   "attachments": {},
   "cell_type": "markdown",
   "metadata": {},
   "source": [
    "Esta función recibe como argumento un número entero mayor a cero y devuelva dos listas, \n",
    "    una con cada factor común y otra con su exponente, \n",
    "    esas dos listas tienen que estar contenidas en otra lista.\n",
    "    En caso de que el parámetro no sea de tipo entero y/ó mayor a cero debe retornar nulo.\n",
    "    Recibe un argumento:\n",
    "        numero: Será el número sobre el que se hará la factorización.\n",
    "    Ej:\n",
    "\n",
    "        factorizar_numero(12) debe retornar [[2,3],[2,1]]\n",
    "        factorizar_numero(13) debe retornar [[13],[1]]\n",
    "        factorizar_numero(14) debe retornar [[2,7],[1,1]]"
   ]
  },
  {
   "cell_type": "code",
   "execution_count": 300,
   "metadata": {},
   "outputs": [],
   "source": [
    "def factorizarNumero(numero):\n",
    "    factor_comun = []\n",
    "    exponentes = []\n",
    "        \n",
    "    if(type(numero) != int):\n",
    "        return None\n",
    "    if(numero < 0):\n",
    "        return None\n",
    "    for i in range(2, numero + 1):\n",
    "        while (numero % i == 0):\n",
    "            factor_comun.append(i)\n",
    "            numero = numero / i  \n",
    "\n",
    "    fact_unic = list(set(factor_comun))\n",
    "    exponentes = [factor_comun.count(i) for i in fact_unic]\n",
    "    return (fact_unic,exponentes)"
   ]
  },
  {
   "cell_type": "code",
   "execution_count": 301,
   "metadata": {},
   "outputs": [
    {
     "name": "stdout",
     "output_type": "stream",
     "text": [
      "([17, 2, 3, 7], [1, 2, 1, 1])\n"
     ]
    }
   ],
   "source": [
    "print(factorizarNumero(1428))"
   ]
  },
  {
   "attachments": {},
   "cell_type": "markdown",
   "metadata": {},
   "source": [
    "Esta función devuelve el número primo siguiente al enviado como parámetro.\n",
    "    En caso de que el parámetro no sea de tipo entero y/o no sea un número primo, debe retornar nulo.\n",
    "    Recibe un argumento:\n",
    "        actual_primo: Será el número primo a partir del cual debo buscar el siguiente\n",
    "    Ej:\n",
    "        ProximoPrimo(7) debe retornar 11\n",
    "        ProximoPrimo(8) debe retornar nulo"
   ]
  },
  {
   "cell_type": "code",
   "execution_count": 337,
   "metadata": {},
   "outputs": [],
   "source": [
    "def proximoPrimo(actual_primo):\n",
    "    Primo = True\n",
    "    if (type(actual_primo)!=int):\n",
    "            return None\n",
    "    for i in range(2,actual_primo):\n",
    "        if (actual_primo%i==0):\n",
    "            Primo = False\n",
    "            return None\n",
    "        else:\n",
    "            primo_siguiente = actual_primo + 1\n",
    "            Primo = True\n",
    "            return primo_siguiente"
   ]
  },
  {
   "cell_type": "code",
   "execution_count": 338,
   "metadata": {},
   "outputs": [
    {
     "name": "stdout",
     "output_type": "stream",
     "text": [
      "6\n"
     ]
    }
   ],
   "source": [
    "print(proximoPrimo(5))"
   ]
  },
  {
   "cell_type": "code",
   "execution_count": 326,
   "metadata": {},
   "outputs": [
    {
     "name": "stdout",
     "output_type": "stream",
     "text": [
      "7\n"
     ]
    }
   ],
   "source": [
    "def proximoPrimo(actual_primo):\n",
    "    cont = 0\n",
    "    for i in range(1, actual_primo + 1):\n",
    "        if actual_primo % i == 0:\n",
    "            cont = cont + 1\n",
    "    if cont == 2:\n",
    "        return True\n",
    "    else:\n",
    "        return False\n",
    "        \n",
    "entrada = int(input(\"Ingrese un numero natural: \")) + 1\n",
    "\n",
    "while not proximoPrimo(entrada):\n",
    "    entrada += 1\n",
    "print(entrada)"
   ]
  }
 ],
 "metadata": {
  "kernelspec": {
   "display_name": "Python 3",
   "language": "python",
   "name": "python3"
  },
  "language_info": {
   "codemirror_mode": {
    "name": "ipython",
    "version": 3
   },
   "file_extension": ".py",
   "mimetype": "text/x-python",
   "name": "python",
   "nbconvert_exporter": "python",
   "pygments_lexer": "ipython3",
   "version": "3.11.1"
  },
  "orig_nbformat": 4
 },
 "nbformat": 4,
 "nbformat_minor": 2
}
